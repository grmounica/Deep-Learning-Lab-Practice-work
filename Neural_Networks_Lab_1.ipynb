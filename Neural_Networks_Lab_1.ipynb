{
  "nbformat": 4,
  "nbformat_minor": 0,
  "metadata": {
    "kernelspec": {
      "display_name": "Python 3",
      "language": "python",
      "name": "python3"
    },
    "language_info": {
      "codemirror_mode": {
        "name": "ipython",
        "version": 3
      },
      "file_extension": ".py",
      "mimetype": "text/x-python",
      "name": "python",
      "nbconvert_exporter": "python",
      "pygments_lexer": "ipython3",
      "version": "3.7.6"
    },
    "colab": {
      "name": "Neural Networks Lab 1.ipynb",
      "provenance": [],
      "include_colab_link": true
    }
  },
  "cells": [
    {
      "cell_type": "markdown",
      "metadata": {
        "id": "view-in-github",
        "colab_type": "text"
      },
      "source": [
        "<a href=\"https://colab.research.google.com/github/grmounica/Deep-Learning-Lab-Practice-work/blob/main/Neural_Networks_Lab_1.ipynb\" target=\"_parent\"><img src=\"https://colab.research.google.com/assets/colab-badge.svg\" alt=\"Open In Colab\"/></a>"
      ]
    },
    {
      "cell_type": "markdown",
      "metadata": {
        "id": "REvyVbiRSslD"
      },
      "source": [
        "<h1><center>Implementing NN using Numpy (Python) </center></h1>"
      ]
    },
    {
      "cell_type": "markdown",
      "metadata": {
        "id": "ZQOmNRiNSslD"
      },
      "source": [
        "importing the library"
      ]
    },
    {
      "cell_type": "code",
      "metadata": {
        "id": "EUL9-vTkSslE"
      },
      "source": [
        "import numpy as np"
      ],
      "execution_count": 1,
      "outputs": []
    },
    {
      "cell_type": "markdown",
      "metadata": {
        "id": "yPftXxWXSslE"
      },
      "source": [
        "creating the input array"
      ]
    },
    {
      "cell_type": "code",
      "metadata": {
        "colab": {
          "base_uri": "https://localhost:8080/"
        },
        "id": "3Tr9T478SslF",
        "outputId": "40bc2b24-690e-4da3-ca2a-5be6878c1ad3"
      },
      "source": [
        "X=np.array([[1,0,1,0],[1,0,1,1],[0,1,0,1]])\n",
        "print ('\\n Input:')\n",
        "print(X)"
      ],
      "execution_count": 2,
      "outputs": [
        {
          "output_type": "stream",
          "text": [
            "\n",
            " Input:\n",
            "[[1 0 1 0]\n",
            " [1 0 1 1]\n",
            " [0 1 0 1]]\n"
          ],
          "name": "stdout"
        }
      ]
    },
    {
      "cell_type": "markdown",
      "metadata": {
        "id": "7FBj7jJUSslG"
      },
      "source": [
        "creating the output array"
      ]
    },
    {
      "cell_type": "code",
      "metadata": {
        "colab": {
          "base_uri": "https://localhost:8080/"
        },
        "id": "xnzSu3HlSslG",
        "outputId": "99b269b0-f348-412c-8af0-7c2bf95d2a88"
      },
      "source": [
        "y=np.array([[1],[1],[0]])\n",
        "print ('\\n Actual Output:')\n",
        "print(y)"
      ],
      "execution_count": 3,
      "outputs": [
        {
          "output_type": "stream",
          "text": [
            "\n",
            " Actual Output:\n",
            "[[1]\n",
            " [1]\n",
            " [0]]\n"
          ],
          "name": "stdout"
        }
      ]
    },
    {
      "cell_type": "markdown",
      "metadata": {
        "id": "T2WG8eKdSslG"
      },
      "source": [
        "Sigmoid function"
      ]
    },
    {
      "cell_type": "code",
      "metadata": {
        "id": "ojj2FZSFSslH"
      },
      "source": [
        "def sigmoid (x):\n",
        "    return 1/(1 + np.exp(-x))"
      ],
      "execution_count": 4,
      "outputs": []
    },
    {
      "cell_type": "markdown",
      "metadata": {
        "id": "g_RBjJ87SslH"
      },
      "source": [
        "Derivative of sigmoid function"
      ]
    },
    {
      "cell_type": "code",
      "metadata": {
        "id": "56eSJGewSslH"
      },
      "source": [
        "def derivatives_sigmoid(x):\n",
        "    return x * (1 - x)"
      ],
      "execution_count": 5,
      "outputs": []
    },
    {
      "cell_type": "markdown",
      "metadata": {
        "id": "qD9PCxd3SslH"
      },
      "source": [
        "initializing the variables"
      ]
    },
    {
      "cell_type": "code",
      "metadata": {
        "id": "app7pQNUSslI"
      },
      "source": [
        "epoch=5000 \n",
        "lr=0.1 \n",
        "inputlayer_neurons = X.shape[1] \n",
        "hiddenlayer_neurons = 3 \n",
        "output_neurons = 1 "
      ],
      "execution_count": 6,
      "outputs": []
    },
    {
      "cell_type": "markdown",
      "metadata": {
        "id": "s0qCMUPFSslI"
      },
      "source": [
        "initializing weights and bais"
      ]
    },
    {
      "cell_type": "code",
      "metadata": {
        "id": "d6Mb1QulSslI"
      },
      "source": [
        "wh=np.random.uniform(size=(inputlayer_neurons,hiddenlayer_neurons))\n",
        "bh=np.random.uniform(size=(1,hiddenlayer_neurons))\n",
        "wout=np.random.uniform(size=(hiddenlayer_neurons,output_neurons))\n",
        "bout=np.random.uniform(size=(1,output_neurons))"
      ],
      "execution_count": 7,
      "outputs": []
    },
    {
      "cell_type": "code",
      "metadata": {
        "id": "ku_5gyfJSslI"
      },
      "source": [
        "for i in range(epoch):\n",
        "    hidden_layer_input1=np.dot(X,wh)\n",
        "    hidden_layer_input=hidden_layer_input1 + bh\n",
        "    hiddenlayer_activations = sigmoid(hidden_layer_input)\n",
        "    output_layer_input1=np.dot(hiddenlayer_activations,wout)\n",
        "    output_layer_input= output_layer_input1+ bout\n",
        "    output = sigmoid(output_layer_input)\n",
        "    E = y-output\n",
        "    slope_output_layer = derivatives_sigmoid(output)\n",
        "    slope_hidden_layer = derivatives_sigmoid(hiddenlayer_activations)\n",
        "    d_output = E * slope_output_layer\n",
        "    Error_at_hidden_layer = d_output.dot(wout.T)\n",
        "    d_hiddenlayer = Error_at_hidden_layer * slope_hidden_layer\n",
        "    wout += hiddenlayer_activations.T.dot(d_output) *lr\n",
        "    bout += np.sum(d_output, axis=0,keepdims=True) *lr\n",
        "    wh += X.T.dot(d_hiddenlayer) *lr\n",
        "    bh += np.sum(d_hiddenlayer, axis=0,keepdims=True) *lr"
      ],
      "execution_count": 8,
      "outputs": []
    },
    {
      "cell_type": "code",
      "metadata": {
        "colab": {
          "base_uri": "https://localhost:8080/"
        },
        "id": "MtuKoUYKSslJ",
        "outputId": "bd78fe2d-f2be-499b-e0af-da4e90c18801"
      },
      "source": [
        "print ('\\n Output from the model:')\n",
        "print (output)"
      ],
      "execution_count": 9,
      "outputs": [
        {
          "output_type": "stream",
          "text": [
            "\n",
            " Output from the model:\n",
            "[[0.96747623]\n",
            " [0.96033955]\n",
            " [0.05721557]]\n"
          ],
          "name": "stdout"
        }
      ]
    },
    {
      "cell_type": "code",
      "metadata": {
        "id": "czejQxfiSslJ"
      },
      "source": [
        ""
      ],
      "execution_count": null,
      "outputs": []
    }
  ]
}