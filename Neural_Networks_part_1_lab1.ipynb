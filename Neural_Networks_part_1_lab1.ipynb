{
  "nbformat": 4,
  "nbformat_minor": 0,
  "metadata": {
    "kernelspec": {
      "display_name": "Python 3",
      "language": "python",
      "name": "python3"
    },
    "language_info": {
      "codemirror_mode": {
        "name": "ipython",
        "version": 3
      },
      "file_extension": ".py",
      "mimetype": "text/x-python",
      "name": "python",
      "nbconvert_exporter": "python",
      "pygments_lexer": "ipython3",
      "version": "3.7.6"
    },
    "colab": {
      "name": "Neural Networks - part 1_lab1",
      "provenance": [],
      "include_colab_link": true
    }
  },
  "cells": [
    {
      "cell_type": "markdown",
      "metadata": {
        "id": "view-in-github",
        "colab_type": "text"
      },
      "source": [
        "<a href=\"https://colab.research.google.com/github/grmounica/Deep-Learning-Lab-Practice-work/blob/main/Neural_Networks_part_1_lab1.ipynb\" target=\"_parent\"><img src=\"https://colab.research.google.com/assets/colab-badge.svg\" alt=\"Open In Colab\"/></a>"
      ]
    },
    {
      "cell_type": "markdown",
      "metadata": {
        "id": "1hakjuFmVNle"
      },
      "source": [
        "#### Import required packages"
      ]
    },
    {
      "cell_type": "code",
      "metadata": {
        "id": "ns7jlmFaVNlf"
      },
      "source": [
        "from pathlib import Path\n",
        "import pandas as pd\n",
        "from sklearn.model_selection import train_test_split\n",
        "from sklearn.neural_network import MLPClassifier"
      ],
      "execution_count": null,
      "outputs": []
    },
    {
      "cell_type": "code",
      "metadata": {
        "id": "IgXbagAFVNlf"
      },
      "source": [
        "example_df = pd.read_csv('D:\\\\juypter\\\\datasets\\\\tinydata.csv')"
      ],
      "execution_count": null,
      "outputs": []
    },
    {
      "cell_type": "code",
      "metadata": {
        "id": "A-jP4s9LVNlf",
        "outputId": "e6646bf8-5d9a-47c5-ca65-1cdaff0aa6f5"
      },
      "source": [
        "example_df"
      ],
      "execution_count": null,
      "outputs": [
        {
          "output_type": "execute_result",
          "data": {
            "text/html": [
              "<div>\n",
              "<style scoped>\n",
              "    .dataframe tbody tr th:only-of-type {\n",
              "        vertical-align: middle;\n",
              "    }\n",
              "\n",
              "    .dataframe tbody tr th {\n",
              "        vertical-align: top;\n",
              "    }\n",
              "\n",
              "    .dataframe thead th {\n",
              "        text-align: right;\n",
              "    }\n",
              "</style>\n",
              "<table border=\"1\" class=\"dataframe\">\n",
              "  <thead>\n",
              "    <tr style=\"text-align: right;\">\n",
              "      <th></th>\n",
              "      <th>Obs.</th>\n",
              "      <th>Fat</th>\n",
              "      <th>Salt</th>\n",
              "      <th>Acceptance</th>\n",
              "    </tr>\n",
              "  </thead>\n",
              "  <tbody>\n",
              "    <tr>\n",
              "      <th>0</th>\n",
              "      <td>1</td>\n",
              "      <td>0.2</td>\n",
              "      <td>0.9</td>\n",
              "      <td>like</td>\n",
              "    </tr>\n",
              "    <tr>\n",
              "      <th>1</th>\n",
              "      <td>2</td>\n",
              "      <td>0.1</td>\n",
              "      <td>0.1</td>\n",
              "      <td>dislike</td>\n",
              "    </tr>\n",
              "    <tr>\n",
              "      <th>2</th>\n",
              "      <td>3</td>\n",
              "      <td>0.2</td>\n",
              "      <td>0.4</td>\n",
              "      <td>dislike</td>\n",
              "    </tr>\n",
              "    <tr>\n",
              "      <th>3</th>\n",
              "      <td>4</td>\n",
              "      <td>0.2</td>\n",
              "      <td>0.5</td>\n",
              "      <td>dislike</td>\n",
              "    </tr>\n",
              "    <tr>\n",
              "      <th>4</th>\n",
              "      <td>5</td>\n",
              "      <td>0.4</td>\n",
              "      <td>0.5</td>\n",
              "      <td>like</td>\n",
              "    </tr>\n",
              "    <tr>\n",
              "      <th>5</th>\n",
              "      <td>6</td>\n",
              "      <td>0.3</td>\n",
              "      <td>0.8</td>\n",
              "      <td>like</td>\n",
              "    </tr>\n",
              "  </tbody>\n",
              "</table>\n",
              "</div>"
            ],
            "text/plain": [
              "   Obs.  Fat  Salt Acceptance\n",
              "0     1  0.2   0.9       like\n",
              "1     2  0.1   0.1    dislike\n",
              "2     3  0.2   0.4    dislike\n",
              "3     4  0.2   0.5    dislike\n",
              "4     5  0.4   0.5       like\n",
              "5     6  0.3   0.8       like"
            ]
          },
          "metadata": {
            "tags": []
          },
          "execution_count": 3
        }
      ]
    },
    {
      "cell_type": "code",
      "metadata": {
        "id": "FO02M0PlVNlg",
        "outputId": "f43dd242-649e-4b2a-e37f-c9a122b7b308"
      },
      "source": [
        "predictors = ['Fat', 'Salt']\n",
        "outcome = 'Acceptance'\n",
        "\n",
        "X = example_df[predictors]\n",
        "y = example_df[outcome]\n",
        "classes = sorted(y.unique())\n",
        "\n",
        "clf = MLPClassifier(hidden_layer_sizes=(3), activation='logistic', solver='lbfgs', random_state=1)\n",
        "clf.fit(X, y)\n",
        "clf.predict(X)\n",
        "\n",
        "# Network structure\n",
        "print('Intercepts')\n",
        "print(clf.intercepts_)\n",
        "\n",
        "print('Weights')\n",
        "print(clf.coefs_)\n",
        "\n",
        "# Prediction\n",
        "print(pd.concat([\n",
        "    example_df,\n",
        "    pd.DataFrame(clf.predict_proba(X), columns=classes)\n",
        "], axis=1))"
      ],
      "execution_count": null,
      "outputs": [
        {
          "output_type": "stream",
          "text": [
            "Intercepts\n",
            "[array([0.13368045, 4.07247552, 7.00768104]), array([14.30748677])]\n",
            "Weights\n",
            "[array([[ -1.30656481,  -4.20427791, -13.29587332],\n",
            "       [ -0.04399727,  -4.91606924,  -6.03356987]]), array([[ -0.27348313],\n",
            "       [ -9.01211572],\n",
            "       [-17.63504696]])]\n",
            "   Obs.  Fat  Salt Acceptance   dislike      like\n",
            "0     1  0.2   0.9       like  0.000490  0.999510\n",
            "1     2  0.1   0.1    dislike  0.999994  0.000006\n",
            "2     3  0.2   0.4    dislike  0.999741  0.000259\n",
            "3     4  0.2   0.5    dislike  0.997368  0.002632\n",
            "4     5  0.4   0.5       like  0.002133  0.997867\n",
            "5     6  0.3   0.8       like  0.000075  0.999925\n"
          ],
          "name": "stdout"
        }
      ]
    },
    {
      "cell_type": "code",
      "metadata": {
        "id": "eQaWspw_VNlh",
        "outputId": "571ef8d2-e75f-4b80-81c4-4280df994d69"
      },
      "source": [
        "for i, (weights, intercepts) in enumerate(zip(clf.coefs_, clf.intercepts_)):\n",
        "    print('Hidden layer' if i == 0 else 'Output layer', '{0[0]} => {0[1]}'.format(weights.shape))\n",
        "    print(' Intercepts:\\n ', intercepts)\n",
        "    print(' Weights:')\n",
        "    for weight in weights:\n",
        "        print(' ', weight)\n",
        "    print()\n"
      ],
      "execution_count": null,
      "outputs": [
        {
          "output_type": "stream",
          "text": [
            "Hidden layer 2 => 3\n",
            " Intercepts:\n",
            "  [0.13368045 4.07247552 7.00768104]\n",
            " Weights:\n",
            "  [ -1.30656481  -4.20427791 -13.29587332]\n",
            "  [-0.04399727 -4.91606924 -6.03356987]\n",
            "\n",
            "Output layer 3 => 1\n",
            " Intercepts:\n",
            "  [14.30748677]\n",
            " Weights:\n",
            "  [-0.27348313]\n",
            "  [-9.01211572]\n",
            "  [-17.63504696]\n",
            "\n"
          ],
          "name": "stdout"
        }
      ]
    }
  ]
}